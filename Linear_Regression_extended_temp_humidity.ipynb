{
  "nbformat": 4,
  "nbformat_minor": 0,
  "metadata": {
    "colab": {
      "provenance": [],
      "collapsed_sections": [],
      "authorship_tag": "ABX9TyOGlXpBuhL0OFcJASoolX9t",
      "include_colab_link": true
    },
    "kernelspec": {
      "name": "python3",
      "display_name": "Python 3"
    },
    "language_info": {
      "name": "python"
    }
  },
  "cells": [
    {
      "cell_type": "markdown",
      "metadata": {
        "id": "view-in-github",
        "colab_type": "text"
      },
      "source": [
        "<a href=\"https://colab.research.google.com/github/hemsush/MLprojects/blob/main/Linear_Regression_extended_temp_humidity.ipynb\" target=\"_parent\"><img src=\"https://colab.research.google.com/assets/colab-badge.svg\" alt=\"Open In Colab\"/></a>"
      ]
    },
    {
      "cell_type": "code",
      "execution_count": 1,
      "metadata": {
        "id": "ab7M5jjTcvpx"
      },
      "outputs": [],
      "source": [
        "import numpy as np\n",
        "from sklearn.linear_model import LinearRegression\n"
      ]
    },
    {
      "cell_type": "code",
      "source": [
        "\n",
        "# X-  year,temp,percentage of humidity, Y -co2 level x= [year,temperature,percentage of humidity]\n",
        "x = np.array([[2000,30,86],[2001,21,87],[2002,22,85]])\n",
        "y = [123,456,767]\n",
        "\n"
      ],
      "metadata": {
        "id": "rJbld4RSc2H9"
      },
      "execution_count": 15,
      "outputs": []
    },
    {
      "cell_type": "code",
      "source": [
        "x_train=np.array(x)\n",
        "x_test=np.array(x)"
      ],
      "metadata": {
        "id": "x6OM6gHOfFrT"
      },
      "execution_count": 27,
      "outputs": []
    },
    {
      "cell_type": "code",
      "source": [
        "y_train=np.array(y)\n",
        "y_test=np.array(y)"
      ],
      "metadata": {
        "id": "3oIgF5vbfUWI"
      },
      "execution_count": 28,
      "outputs": []
    },
    {
      "cell_type": "code",
      "source": [
        "print(x_train)"
      ],
      "metadata": {
        "colab": {
          "base_uri": "https://localhost:8080/"
        },
        "id": "nxoHHpRZ0XYT",
        "outputId": "bbd8b894-734f-477e-9b45-49c21783bb9e"
      },
      "execution_count": 24,
      "outputs": [
        {
          "output_type": "stream",
          "name": "stdout",
          "text": [
            "[[2000   30   86]\n",
            " [2001   21   87]\n",
            " [2002   22   85]]\n"
          ]
        }
      ]
    },
    {
      "cell_type": "code",
      "source": [
        "model = LinearRegression()\n",
        "model.fit(x_train,y_train) # for training\n"
      ],
      "metadata": {
        "colab": {
          "base_uri": "https://localhost:8080/"
        },
        "id": "11rWGVhlc_UN",
        "outputId": "740553d6-4d32-434d-da52-72428e83890a"
      },
      "execution_count": 25,
      "outputs": [
        {
          "output_type": "execute_result",
          "data": {
            "text/plain": [
              "LinearRegression()"
            ]
          },
          "metadata": {},
          "execution_count": 25
        }
      ]
    },
    {
      "cell_type": "code",
      "source": [
        "model.predict(x_test)"
      ],
      "metadata": {
        "colab": {
          "base_uri": "https://localhost:8080/"
        },
        "id": "UYCRrpgOgXID",
        "outputId": "2c40dbc9-d25b-493e-e399-26de18d906c2"
      },
      "execution_count": 29,
      "outputs": [
        {
          "output_type": "execute_result",
          "data": {
            "text/plain": [
              "array([123., 456., 767.])"
            ]
          },
          "metadata": {},
          "execution_count": 29
        }
      ]
    }
  ]
}